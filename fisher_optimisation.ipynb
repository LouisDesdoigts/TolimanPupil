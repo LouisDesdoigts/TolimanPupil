{
 "cells": [
  {
   "cell_type": "code",
   "execution_count": 1,
   "metadata": {},
   "outputs": [
    {
     "name": "stderr",
     "output_type": "stream",
     "text": [
      "/Users/louis/mambaforge/envs/models/lib/python3.11/site-packages/pysynphot/locations.py:345: UserWarning: Extinction files not found in /Users/louis/Data/pysynphot/grp/redcat/trds/extinction\n",
      "  warnings.warn('Extinction files not found in %s' % (extdir, ))\n",
      "/Users/louis/mambaforge/envs/models/lib/python3.11/site-packages/pysynphot/refs.py:117: UserWarning: No graph or component tables found; functionality will be SEVERELY crippled. No files found for /Users/louis/Data/pysynphot/grp/redcat/trds/mtab/*_tmg.fits\n",
      "  warnings.warn('No graph or component tables found; '\n",
      "/Users/louis/mambaforge/envs/models/lib/python3.11/site-packages/pysynphot/refs.py:124: UserWarning: No thermal tables found, no thermal calculations can be performed. No files found for /Users/louis/Data/pysynphot/grp/redcat/trds/mtab/*_tmt.fits\n",
      "  warnings.warn('No thermal tables found, '\n"
     ]
    },
    {
     "name": "stdout",
     "output_type": "stream",
     "text": [
      "dLux: Jax is running in 32-bit, to enable 64-bit visit: https://jax.readthedocs.io/en/latest/notebooks/Common_Gotchas_in_JAX.html#double-64bit-precision\n"
     ]
    }
   ],
   "source": [
    "import jax.numpy as np\n",
    "from tqdm.notebook import tqdm\n",
    "from optimisation import optimise_fisher"
   ]
  },
  {
   "cell_type": "code",
   "execution_count": 2,
   "metadata": {},
   "outputs": [],
   "source": [
    "seeds = np.arange(5)\n",
    "\n",
    "# Margingal Parameters\n",
    "full_params = [\n",
    "\n",
    "    # Source Parameters\n",
    "    \"separation\",     # arcseconds\n",
    "    \"x_position\",     # arcseconds\n",
    "    \"y_position\",     # arcseconds\n",
    "    \"position_angle\", # degrees\n",
    "    \"log_flux\",       # log10(photons(/s?))\n",
    "    \"contrast\",       # ratio\n",
    "    \"wavelengths\",    # m\n",
    "\n",
    "    # Instrument Parameters\n",
    "    \"psf_pixel_scale\",         # arcseconds\n",
    "    \"aberrations.coefficients\" # Zernikes\n",
    "    ]"
   ]
  },
  {
   "cell_type": "code",
   "execution_count": 3,
   "metadata": {},
   "outputs": [
    {
     "data": {
      "application/vnd.jupyter.widget-view+json": {
       "model_id": "38d0adf26b3d4647a5ce65c63368e73b",
       "version_major": 2,
       "version_minor": 0
      },
      "text/plain": [
       "  0%|          | 0/5 [00:00<?, ?it/s]"
      ]
     },
     "metadata": {},
     "output_type": "display_data"
    },
    {
     "ename": "KeyboardInterrupt",
     "evalue": "",
     "output_type": "error",
     "traceback": [
      "\u001b[0;31m---------------------------------------------------------------------------\u001b[0m",
      "\u001b[0;31mKeyboardInterrupt\u001b[0m                         Traceback (most recent call last)",
      "Cell \u001b[0;32mIn[3], line 5\u001b[0m\n\u001b[1;32m      3\u001b[0m all_losses, all_coefficients \u001b[39m=\u001b[39m [], []\n\u001b[1;32m      4\u001b[0m \u001b[39mfor\u001b[39;00m seed \u001b[39min\u001b[39;00m tqdm(seeds):\n\u001b[0;32m----> 5\u001b[0m     losses, coefficients \u001b[39m=\u001b[39m optimise_fisher(seed, full_params)\n\u001b[1;32m      7\u001b[0m     all_losses\u001b[39m.\u001b[39mappend(losses)\n\u001b[1;32m      8\u001b[0m     all_coefficients\u001b[39m.\u001b[39mappend(coefficients)\n",
      "File \u001b[0;32m~/PhD/Research/Toliman/Pupil_Design/optimisation.py:77\u001b[0m, in \u001b[0;36moptimise_fisher\u001b[0;34m(seed, parameters, lr, epochs)\u001b[0m\n\u001b[1;32m     75\u001b[0m losses, coefficients \u001b[39m=\u001b[39m [], [model\u001b[39m.\u001b[39mmask\u001b[39m.\u001b[39mcoefficients]\n\u001b[1;32m     76\u001b[0m \u001b[39mfor\u001b[39;00m i \u001b[39min\u001b[39;00m \u001b[39mrange\u001b[39m(epochs):\n\u001b[0;32m---> 77\u001b[0m     loss, grads \u001b[39m=\u001b[39m fisher_loss_fn(model, parameters)\n\u001b[1;32m     78\u001b[0m     step, state \u001b[39m=\u001b[39m optimiser\u001b[39m.\u001b[39mupdate(grads, state)\n\u001b[1;32m     79\u001b[0m     model \u001b[39m=\u001b[39m zdx\u001b[39m.\u001b[39mapply_updates(model, step)\n",
      "File \u001b[0;32m~/mambaforge/envs/models/lib/python3.11/site-packages/equinox/_jit.py:75\u001b[0m, in \u001b[0;36m_JitWrapper.__call__\u001b[0;34m(self, *args, **kwargs)\u001b[0m\n\u001b[1;32m     73\u001b[0m         \u001b[39mreturn\u001b[39;00m \u001b[39mself\u001b[39m\u001b[39m.\u001b[39m_fun_wrapper(\u001b[39mFalse\u001b[39;00m, args, kwargs)\n\u001b[1;32m     74\u001b[0m \u001b[39melse\u001b[39;00m:\n\u001b[0;32m---> 75\u001b[0m     \u001b[39mreturn\u001b[39;00m \u001b[39mself\u001b[39;49m\u001b[39m.\u001b[39;49m_fun_wrapper(\u001b[39mFalse\u001b[39;49;00m, args, kwargs)\n",
      "File \u001b[0;32m~/mambaforge/envs/models/lib/python3.11/site-packages/equinox/_jit.py:64\u001b[0m, in \u001b[0;36m_JitWrapper._fun_wrapper\u001b[0;34m(self, is_lower, args, kwargs)\u001b[0m\n\u001b[1;32m     62\u001b[0m     \u001b[39mreturn\u001b[39;00m \u001b[39mself\u001b[39m\u001b[39m.\u001b[39m_cached\u001b[39m.\u001b[39mlower(dynamic, static)\n\u001b[1;32m     63\u001b[0m \u001b[39melse\u001b[39;00m:\n\u001b[0;32m---> 64\u001b[0m     dynamic_out, static_out \u001b[39m=\u001b[39m \u001b[39mself\u001b[39;49m\u001b[39m.\u001b[39;49m_cached(dynamic, static)\n\u001b[1;32m     65\u001b[0m     \u001b[39mreturn\u001b[39;00m combine(dynamic_out, static_out\u001b[39m.\u001b[39mvalue)\n",
      "File \u001b[0;32m~/mambaforge/envs/models/lib/python3.11/site-packages/equinox/_module.py:296\u001b[0m, in \u001b[0;36mModule._tree_unflatten\u001b[0;34m(cls, aux, dynamic_field_values)\u001b[0m\n\u001b[1;32m    289\u001b[0m             static_field_values\u001b[39m.\u001b[39mappend(value)\n\u001b[1;32m    290\u001b[0m     \u001b[39mreturn\u001b[39;00m \u001b[39mtuple\u001b[39m(dynamic_field_values), (\n\u001b[1;32m    291\u001b[0m         \u001b[39mtuple\u001b[39m(dynamic_field_names),\n\u001b[1;32m    292\u001b[0m         \u001b[39mtuple\u001b[39m(static_field_names),\n\u001b[1;32m    293\u001b[0m         \u001b[39mtuple\u001b[39m(static_field_values),\n\u001b[1;32m    294\u001b[0m     )\n\u001b[0;32m--> 296\u001b[0m \u001b[39m@classmethod\u001b[39m\n\u001b[1;32m    297\u001b[0m \u001b[39mdef\u001b[39;00m \u001b[39m_tree_unflatten\u001b[39m(\u001b[39mcls\u001b[39m, aux, dynamic_field_values):\n\u001b[1;32m    298\u001b[0m     \u001b[39mself\u001b[39m \u001b[39m=\u001b[39m \u001b[39mobject\u001b[39m\u001b[39m.\u001b[39m\u001b[39m__new__\u001b[39m(\u001b[39mcls\u001b[39m)\n\u001b[1;32m    299\u001b[0m     dynamic_field_names, static_field_names, static_field_values \u001b[39m=\u001b[39m aux\n",
      "\u001b[0;31mKeyboardInterrupt\u001b[0m: "
     ]
    }
   ],
   "source": [
    "path = f\"data/gradient_energy/full_params\"\n",
    "\n",
    "all_losses, all_coefficients = [], []\n",
    "for seed in tqdm(seeds):\n",
    "    losses, coefficients = optimise_fisher(seed, full_params)\n",
    "\n",
    "    all_losses.append(losses)\n",
    "    all_coefficients.append(coefficients)\n",
    "\n",
    "    # Iteratevely save so progress can be examined line\n",
    "    np.save(f\"{path}_losses.npy\", np.array(all_losses))\n",
    "    np.save(f\"{path}_coefficients.npy\", np.array(all_coefficients))"
   ]
  },
  {
   "cell_type": "code",
   "execution_count": null,
   "metadata": {},
   "outputs": [],
   "source": [
    "# Margingal Parameters\n",
    "reduced_params = [\n",
    "\n",
    "    # Source Parameters\n",
    "    \"separation\",     # arcseconds\n",
    "    \"x_position\",     # arcseconds\n",
    "    \"y_position\",     # arcseconds\n",
    "    \"position_angle\", # degrees\n",
    "    \"log_flux\",       # log10(photons(/s?))\n",
    "    \"contrast\",       # ratio\n",
    "\n",
    "    # Instrument Parameters\n",
    "    \"aberrations.coefficients\" # Zernikes\n",
    "    ]"
   ]
  },
  {
   "cell_type": "code",
   "execution_count": null,
   "metadata": {},
   "outputs": [],
   "source": [
    "path = f\"data/gradient_energy/reduced_params\"\n",
    "\n",
    "all_losses, all_coefficients = [], []\n",
    "for seed in tqdm(seeds):\n",
    "    losses, coefficients = optimise_fisher(seed, reduced_params)\n",
    "\n",
    "    all_losses.append(losses)\n",
    "    all_coefficients.append(coefficients)\n",
    "\n",
    "    # Iteratevely save so progress can be examined line\n",
    "    np.save(f\"{path}_losses.npy\", np.array(all_losses))\n",
    "    np.save(f\"{path}_coefficients.npy\", np.array(all_coefficients))"
   ]
  },
  {
   "cell_type": "code",
   "execution_count": null,
   "metadata": {},
   "outputs": [],
   "source": []
  }
 ],
 "metadata": {
  "kernelspec": {
   "display_name": "dLux",
   "language": "python",
   "name": "python3"
  },
  "language_info": {
   "codemirror_mode": {
    "name": "ipython",
    "version": 3
   },
   "file_extension": ".py",
   "mimetype": "text/x-python",
   "name": "python",
   "nbconvert_exporter": "python",
   "pygments_lexer": "ipython3",
   "version": "3.11.3"
  },
  "orig_nbformat": 4,
  "vscode": {
   "interpreter": {
    "hash": "4fdec4c80f7cfcc230aa904a4fcca0162d871cca075cee587cf29da4284b5699"
   }
  }
 },
 "nbformat": 4,
 "nbformat_minor": 2
}
