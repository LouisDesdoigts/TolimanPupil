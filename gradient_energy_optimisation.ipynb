{
 "cells": [
  {
   "cell_type": "code",
   "execution_count": 1,
   "metadata": {},
   "outputs": [
    {
     "name": "stdout",
     "output_type": "stream",
     "text": [
      "dLux: Jax is running in 32-bit, to enable 64-bit visit: https://jax.readthedocs.io/en/latest/notebooks/Common_Gotchas_in_JAX.html#double-64bit-precision\n"
     ]
    },
    {
     "name": "stderr",
     "output_type": "stream",
     "text": [
      "/Users/louis/mambaforge/envs/models/lib/python3.11/site-packages/pysynphot/locations.py:345: UserWarning: Extinction files not found in /Users/louis/Data/pysynphot/grp/redcat/trds/extinction\n",
      "  warnings.warn('Extinction files not found in %s' % (extdir, ))\n",
      "/Users/louis/mambaforge/envs/models/lib/python3.11/site-packages/pysynphot/refs.py:117: UserWarning: No graph or component tables found; functionality will be SEVERELY crippled. No files found for /Users/louis/Data/pysynphot/grp/redcat/trds/mtab/*_tmg.fits\n",
      "  warnings.warn('No graph or component tables found; '\n",
      "/Users/louis/mambaforge/envs/models/lib/python3.11/site-packages/pysynphot/refs.py:124: UserWarning: No thermal tables found, no thermal calculations can be performed. No files found for /Users/louis/Data/pysynphot/grp/redcat/trds/mtab/*_tmt.fits\n",
      "  warnings.warn('No thermal tables found, '\n"
     ]
    }
   ],
   "source": [
    "import jax.numpy as np\n",
    "from tqdm.notebook import tqdm\n",
    "from optimisation import optimise_ge"
   ]
  },
  {
   "cell_type": "code",
   "execution_count": 2,
   "metadata": {},
   "outputs": [],
   "source": [
    "rmaxes = [10, 9, 8]\n",
    "powers = [0.4, 0.5, 0.6]"
   ]
  },
  {
   "cell_type": "code",
   "execution_count": 3,
   "metadata": {},
   "outputs": [
    {
     "data": {
      "application/vnd.jupyter.widget-view+json": {
       "model_id": "59bbe71d614b47e39537816c9455bbf1",
       "version_major": 2,
       "version_minor": 0
      },
      "text/plain": [
       "  0%|          | 0/10 [00:00<?, ?it/s]"
      ]
     },
     "metadata": {},
     "output_type": "display_data"
    },
    {
     "ename": "KeyboardInterrupt",
     "evalue": "",
     "output_type": "error",
     "traceback": [
      "\u001b[0;31m---------------------------------------------------------------------------\u001b[0m",
      "\u001b[0;31mKeyboardInterrupt\u001b[0m                         Traceback (most recent call last)",
      "Cell \u001b[0;32mIn[3], line 10\u001b[0m\n\u001b[1;32m      7\u001b[0m all_losses, all_coefficients \u001b[39m=\u001b[39m [], []\n\u001b[1;32m      8\u001b[0m \u001b[39mfor\u001b[39;00m seed \u001b[39min\u001b[39;00m tqdm(seeds):\n\u001b[0;32m---> 10\u001b[0m     losses, coefficients \u001b[39m=\u001b[39m optimise_ge(seed, rmax\u001b[39m=\u001b[39;49mrmax, power\u001b[39m=\u001b[39;49mpower)\n\u001b[1;32m     12\u001b[0m     all_losses\u001b[39m.\u001b[39mappend(losses)\n\u001b[1;32m     13\u001b[0m     all_coefficients\u001b[39m.\u001b[39mappend(coefficients)\n",
      "File \u001b[0;32m~/PhD/Research/Toliman/Pupil_Design/optimisation.py:42\u001b[0m, in \u001b[0;36moptimise_ge\u001b[0;34m(seed, rmin, rmax, power, lr, epochs)\u001b[0m\n\u001b[1;32m     40\u001b[0m \u001b[39mfor\u001b[39;00m i \u001b[39min\u001b[39;00m \u001b[39mrange\u001b[39m(epochs):\n\u001b[1;32m     41\u001b[0m     loss, grads \u001b[39m=\u001b[39m GE_loss_fn(model, rmin\u001b[39m=\u001b[39mrmin, rmax\u001b[39m=\u001b[39mrmax, power\u001b[39m=\u001b[39mpower)\n\u001b[0;32m---> 42\u001b[0m     step, state \u001b[39m=\u001b[39m optimiser\u001b[39m.\u001b[39;49mupdate(grads, state)\n\u001b[1;32m     43\u001b[0m     model \u001b[39m=\u001b[39m zdx\u001b[39m.\u001b[39mapply_updates(model, step)\n\u001b[1;32m     44\u001b[0m     losses\u001b[39m.\u001b[39mappend(loss)\n",
      "File \u001b[0;32m~/mambaforge/envs/models/lib/python3.11/site-packages/optax/_src/combine.py:155\u001b[0m, in \u001b[0;36mmulti_transform.<locals>.update_fn\u001b[0;34m(updates, state, params)\u001b[0m\n\u001b[1;32m    153\u001b[0m new_inner_state \u001b[39m=\u001b[39m {}\n\u001b[1;32m    154\u001b[0m \u001b[39mfor\u001b[39;00m group, tx \u001b[39min\u001b[39;00m transforms\u001b[39m.\u001b[39mitems():\n\u001b[0;32m--> 155\u001b[0m   masked_tx \u001b[39m=\u001b[39m wrappers\u001b[39m.\u001b[39mmasked(tx, make_mask(labels, group))\n\u001b[1;32m    156\u001b[0m   updates, new_inner_state[group] \u001b[39m=\u001b[39m masked_tx\u001b[39m.\u001b[39mupdate(\n\u001b[1;32m    157\u001b[0m       updates, state\u001b[39m.\u001b[39minner_states[group], params)\n\u001b[1;32m    158\u001b[0m \u001b[39mreturn\u001b[39;00m updates, MultiTransformState(new_inner_state)\n",
      "File \u001b[0;32m~/mambaforge/envs/models/lib/python3.11/site-packages/optax/_src/combine.py:134\u001b[0m, in \u001b[0;36mmulti_transform.<locals>.make_mask\u001b[0;34m(labels, group)\u001b[0m\n\u001b[1;32m    133\u001b[0m \u001b[39mdef\u001b[39;00m \u001b[39mmake_mask\u001b[39m(labels, group):\n\u001b[0;32m--> 134\u001b[0m   \u001b[39mreturn\u001b[39;00m jax\u001b[39m.\u001b[39;49mtree_util\u001b[39m.\u001b[39;49mtree_map(\u001b[39mlambda\u001b[39;49;00m label: label \u001b[39m==\u001b[39;49m group, labels)\n",
      "File \u001b[0;32m~/mambaforge/envs/models/lib/python3.11/site-packages/jax/_src/tree_util.py:208\u001b[0m, in \u001b[0;36mtree_map\u001b[0;34m(f, tree, is_leaf, *rest)\u001b[0m\n\u001b[1;32m    174\u001b[0m \u001b[39mdef\u001b[39;00m \u001b[39mtree_map\u001b[39m(f: Callable[\u001b[39m.\u001b[39m\u001b[39m.\u001b[39m\u001b[39m.\u001b[39m, Any], tree: Any, \u001b[39m*\u001b[39mrest: Any,\n\u001b[1;32m    175\u001b[0m              is_leaf: Optional[Callable[[Any], \u001b[39mbool\u001b[39m]] \u001b[39m=\u001b[39m \u001b[39mNone\u001b[39;00m) \u001b[39m-\u001b[39m\u001b[39m>\u001b[39m Any:\n\u001b[1;32m    176\u001b[0m \u001b[39m  \u001b[39m\u001b[39m\"\"\"Maps a multi-input function over pytree args to produce a new pytree.\u001b[39;00m\n\u001b[1;32m    177\u001b[0m \n\u001b[1;32m    178\u001b[0m \u001b[39m  Args:\u001b[39;00m\n\u001b[0;32m   (...)\u001b[0m\n\u001b[1;32m    206\u001b[0m \u001b[39m    [[5, 7, 9], [6, 1, 2]]\u001b[39;00m\n\u001b[1;32m    207\u001b[0m \u001b[39m  \"\"\"\u001b[39;00m\n\u001b[0;32m--> 208\u001b[0m   leaves, treedef \u001b[39m=\u001b[39m tree_flatten(tree, is_leaf)\n\u001b[1;32m    209\u001b[0m   all_leaves \u001b[39m=\u001b[39m [leaves] \u001b[39m+\u001b[39m [treedef\u001b[39m.\u001b[39mflatten_up_to(r) \u001b[39mfor\u001b[39;00m r \u001b[39min\u001b[39;00m rest]\n\u001b[1;32m    210\u001b[0m   \u001b[39mreturn\u001b[39;00m treedef\u001b[39m.\u001b[39munflatten(f(\u001b[39m*\u001b[39mxs) \u001b[39mfor\u001b[39;00m xs \u001b[39min\u001b[39;00m \u001b[39mzip\u001b[39m(\u001b[39m*\u001b[39mall_leaves))\n",
      "File \u001b[0;32m~/mambaforge/envs/models/lib/python3.11/site-packages/jax/_src/tree_util.py:61\u001b[0m, in \u001b[0;36mtree_flatten\u001b[0;34m(tree, is_leaf)\u001b[0m\n\u001b[1;32m     42\u001b[0m \u001b[39mdef\u001b[39;00m \u001b[39mtree_flatten\u001b[39m(tree: Any,\n\u001b[1;32m     43\u001b[0m                  is_leaf: Optional[Callable[[Any], \u001b[39mbool\u001b[39m]] \u001b[39m=\u001b[39m \u001b[39mNone\u001b[39;00m\n\u001b[1;32m     44\u001b[0m                  ) \u001b[39m-\u001b[39m\u001b[39m>\u001b[39m Tuple[List[Leaf], PyTreeDef]:\n\u001b[1;32m     45\u001b[0m \u001b[39m  \u001b[39m\u001b[39m\"\"\"Flattens a pytree.\u001b[39;00m\n\u001b[1;32m     46\u001b[0m \n\u001b[1;32m     47\u001b[0m \u001b[39m  The flattening order (i.e. the order of elements in the output list)\u001b[39;00m\n\u001b[0;32m   (...)\u001b[0m\n\u001b[1;32m     59\u001b[0m \u001b[39m    element is a treedef representing the structure of the flattened tree.\u001b[39;00m\n\u001b[1;32m     60\u001b[0m \u001b[39m  \"\"\"\u001b[39;00m\n\u001b[0;32m---> 61\u001b[0m   \u001b[39mreturn\u001b[39;00m pytree\u001b[39m.\u001b[39;49mflatten(tree, is_leaf)\n",
      "File \u001b[0;32m~/mambaforge/envs/models/lib/python3.11/site-packages/equinox/_module.py:267\u001b[0m, in \u001b[0;36mModule._tree_flatten\u001b[0;34m(self)\u001b[0m\n\u001b[1;32m    262\u001b[0m     \u001b[39mreturn\u001b[39;00m tree_pformat(\u001b[39mself\u001b[39m)\n\u001b[1;32m    264\u001b[0m \u001b[39m# TODO: move this out of being a method at all.\u001b[39;00m\n\u001b[1;32m    265\u001b[0m \u001b[39m# Need to first wait until stateful operations land in JAX itself, so that we can\u001b[39;00m\n\u001b[1;32m    266\u001b[0m \u001b[39m# deprecate `eqx.experimental.stateful`.\u001b[39;00m\n\u001b[0;32m--> 267\u001b[0m \u001b[39mdef\u001b[39;00m \u001b[39m_tree_flatten\u001b[39m(\u001b[39mself\u001b[39m):\n\u001b[1;32m    268\u001b[0m     dynamic_field_names \u001b[39m=\u001b[39m []\n\u001b[1;32m    269\u001b[0m     dynamic_field_values \u001b[39m=\u001b[39m []\n",
      "\u001b[0;31mKeyboardInterrupt\u001b[0m: "
     ]
    }
   ],
   "source": [
    "seeds = np.arange(10)\n",
    "power = 0.4\n",
    "rmax = 10\n",
    "\n",
    "path = f\"data/gradient_energy/rmax_{rmax}_power_{power}\"\n",
    "\n",
    "all_losses, all_coefficients = [], []\n",
    "for seed in tqdm(seeds):\n",
    "\n",
    "    losses, coefficients = optimise_ge(seed, rmax=rmax, power=power)\n",
    "    \n",
    "    all_losses.append(losses)\n",
    "    all_coefficients.append(coefficients)\n",
    "\n",
    "    # Iteratevely save so progress can be examined line\n",
    "    np.save(f\"{path}_losses.npy\", np.array(all_losses))\n",
    "    np.save(f\"{path}_coefficients.npy\", np.array(all_coefficients))"
   ]
  },
  {
   "cell_type": "code",
   "execution_count": null,
   "metadata": {},
   "outputs": [],
   "source": []
  }
 ],
 "metadata": {
  "kernelspec": {
   "display_name": "dLux",
   "language": "python",
   "name": "python3"
  },
  "language_info": {
   "codemirror_mode": {
    "name": "ipython",
    "version": 3
   },
   "file_extension": ".py",
   "mimetype": "text/x-python",
   "name": "python",
   "nbconvert_exporter": "python",
   "pygments_lexer": "ipython3",
   "version": "3.11.3"
  },
  "orig_nbformat": 4,
  "vscode": {
   "interpreter": {
    "hash": "4fdec4c80f7cfcc230aa904a4fcca0162d871cca075cee587cf29da4284b5699"
   }
  }
 },
 "nbformat": 4,
 "nbformat_minor": 2
}
